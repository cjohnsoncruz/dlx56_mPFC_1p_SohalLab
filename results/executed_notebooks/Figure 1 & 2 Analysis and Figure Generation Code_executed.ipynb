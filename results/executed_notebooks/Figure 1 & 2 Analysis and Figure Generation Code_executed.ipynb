{
 "cells": [
  {
   "cell_type": "markdown",
   "metadata": {},
   "source": [
    "# Figure 1/2: Analysis & Figure Generation Code\n",
    "#### Contents Description:\n",
    "Contains analysis and code producing figures used in: \n",
    "Figure 1: I, J, K\n",
    "Figure 2: B, C\n",
    "\n",
    "#### Run Order\n",
    "- Environment and Imports\n",
    "- Config (paths, parameters)\n",
    "- Load Data\n",
    "- Process Data\n",
    "- Figure 1 (I, J, K)\n",
    "- Figure 2 (B, C)\n",
    "- Save Figures and Tables"
   ]
  },
  {
   "cell_type": "markdown",
   "metadata": {},
   "source": [
    "#### Environment & Imports Setup"
   ]
  },
  {
   "cell_type": "code",
   "execution_count": 1,
   "metadata": {
    "execution": {
     "iopub.execute_input": "2025-08-29T05:00:23.985595Z",
     "iopub.status.busy": "2025-08-29T05:00:23.985595Z",
     "iopub.status.idle": "2025-08-29T05:00:26.088625Z",
     "shell.execute_reply": "2025-08-29T05:00:26.088115Z"
    }
   },
   "outputs": [
    {
     "name": "stdout",
     "output_type": "stream",
     "text": [
      "matplotlib 3.7.0 | Seaborn 0.12.1\n",
      "Loading style guide at C:\\Users\\13car\\Dropbox\\local_github_repos_personal\\dlx56_mPFC_1p_SohalLab\\code\\Function .py Storage\\paper_plot.mplstyle\n",
      " Here: C:\\Users\\13car\\Dropbox\\local_github_repos_personal\\dlx56_mPFC_1p_SohalLab\\code\n",
      "The folder 'C:\\Users\\13car\\Dropbox\\local_github_repos_personal\\dlx56_mPFC_1p_SohalLab\\results' already exists.\n",
      "The folder 'C:\\Users\\13car\\Dropbox\\local_github_repos_personal\\dlx56_mPFC_1p_SohalLab\\data' already exists.\n",
      "The folder 'C:\\Users\\13car\\Dropbox\\local_github_repos_personal\\dlx56_mPFC_1p_SohalLab\\results\\analysis_CSV_output' has been created.\n",
      "Saving results in C:\\Users\\13car\\Dropbox\\local_github_repos_personal\\dlx56_mPFC_1p_SohalLab\\results. Data location is C:\\Users\\13car\\Dropbox\\local_github_repos_personal\\dlx56_mPFC_1p_SohalLab\\data\n"
     ]
    },
    {
     "data": {
      "text/plain": [
       "<Figure size 960x720 with 0 Axes>"
      ]
     },
     "metadata": {},
     "output_type": "display_data"
    }
   ],
   "source": [
    "from pathlib import Path\n",
    "import os\n",
    "import notebook_setup\n",
    "info = notebook_setup.setup()\n",
    "# Environment & Imports Setup\n",
    "import matplotlib as matplotlib\n",
    "use_code_ocean = True\n",
    "if use_code_ocean:\n",
    "    matplotlib.use('Agg')\n",
    "import matplotlib.pyplot as plt\n",
    "import seaborn as sns\n",
    "import numpy as np\n",
    "import warnings\n",
    "import pandas as pd\n",
    "import random\n",
    "import pingouin as png\n",
    "import mat73\n",
    "## set options\n",
    "%matplotlib inline \n",
    "print(f\"matplotlib {matplotlib.__version__} | Seaborn {sns.__version__}\")\n",
    "warnings.filterwarnings(action='ignore', category=FutureWarning)\n",
    "pd.set_option('mode.use_inf_as_na', False) # pd.set_option('future.no_silent_downcasting', True)\n",
    "#set seed for reproducibility \n",
    "np.random.seed(1)\n",
    "random.seed(1)\n",
    "# Apply mplstyle via absolute path from setup info\n",
    "style_path = Path(info[\"function_py_storage\"]) / \"paper_plot.mplstyle\"\n",
    "print(f\"Loading style guide at {style_path}\")\n",
    "if style_path.is_file():\n",
    "    plt.style.use(str(style_path))\n",
    "else:\n",
    "    print(f\"[warn] Style not found at: {style_path}\")\n",
    "here = info[\"repo_root\"]\n",
    "print(f\" Here: {here}\")\n",
    "_plot_posthoc_src = os.path.join(here, 'plot_posthoc_test', 'src')\n",
    "if os.path.isdir(_plot_posthoc_src) and _plot_posthoc_src not in sys.path:\n",
    "    sys.path.append(_plot_posthoc_src)\n",
    "#custom function import\n",
    "import custom_module_imports as cmi \n",
    "from preprocess_data import hyper_param_dict\n",
    "from helper_functions import save_fig_in_main_fig_dir,  save_plot_record_as_csv_txt, save_csv_to_analysis_storage\n",
    "from ax_modifier_functions import set_ax_title_xlabel_ylabel, set_pointplot_edgecolor, set_labels\n",
    "from sns_plotting_config import * #import dicts containing default plot params\n",
    "from plot_posthoc_test.plot_stat_annotate import *\n",
    "date_tag = \"_\".join([datetime.now().strftime('%d'),datetime.now().strftime('%h'),datetime.now().strftime('%Y')])\n",
    "\n",
    "##Set/create save and load folder paths \n",
    "results_location = Path(here).parents[0] / \"results\"\n",
    "data_location = Path(here).parents[0] / \"data\"\n",
    "make_folder(results_location)\n",
    "make_folder(data_location)\n",
    "csv_folder_most_recent = results_location/ f\"analysis_CSV_output/\" #folders that analysis output goes to\n",
    "make_folder( csv_folder_most_recent)\n",
    "print(f\"Saving results in {results_location}. Data location is {data_location}\")"
   ]
  },
  {
   "cell_type": "markdown",
   "metadata": {},
   "source": [
    "#### Figure 1 Behavior Analysis"
   ]
  },
  {
   "cell_type": "code",
   "execution_count": 2,
   "metadata": {
    "colab": {
     "base_uri": "https://localhost:8080/",
     "height": 1000
    },
    "execution": {
     "iopub.execute_input": "2025-08-29T05:00:26.119715Z",
     "iopub.status.busy": "2025-08-29T05:00:26.119715Z",
     "iopub.status.idle": "2025-08-29T05:00:26.585048Z",
     "shell.execute_reply": "2025-08-29T05:00:26.585048Z"
    },
    "id": "0HhwPKRNSpEX",
    "outputId": "6f6c6011-73fa-457e-dde6-0080d3ac46a0"
   },
   "outputs": [
    {
     "name": "stdout",
     "output_type": "stream",
     "text": [
      "['DOB', 'Age-Run1', 'Date run - VEH', 'Run1 - # Cells', 'RS TTC > IA TTC', 'Date run - CLZ', 'Run2 - # Cells', 'CLNZ RS TTC < VEH RS TTC', 'Date run - POST', 'Run3 # Cells']\n"
     ]
    },
    {
     "data": {
      "text/html": [
       "<div>\n",
       "<style scoped>\n",
       "    .dataframe tbody tr th:only-of-type {\n",
       "        vertical-align: middle;\n",
       "    }\n",
       "\n",
       "    .dataframe tbody tr th {\n",
       "        vertical-align: top;\n",
       "    }\n",
       "\n",
       "    .dataframe thead th {\n",
       "        text-align: right;\n",
       "    }\n",
       "</style>\n",
       "<table border=\"1\" class=\"dataframe\">\n",
       "  <thead>\n",
       "    <tr style=\"text-align: right;\">\n",
       "      <th></th>\n",
       "      <th>Mouse ID</th>\n",
       "      <th>Geno</th>\n",
       "      <th>Sex</th>\n",
       "      <th>IA_TTC_VEH</th>\n",
       "      <th>RS_TTC_VEH</th>\n",
       "      <th>IA_Errors_VEH</th>\n",
       "      <th>RS_Errors_VEH</th>\n",
       "      <th>IA_TTC_CLNZ</th>\n",
       "      <th>RS_TTC_CLNZ</th>\n",
       "      <th>IA_Errors_CLNZ</th>\n",
       "      <th>RS_Errors_CLNZ</th>\n",
       "      <th>IA_TTC_postCLNZ</th>\n",
       "      <th>RS_TTC_postCLNZ</th>\n",
       "      <th>IA_Errors_postCLNZ</th>\n",
       "      <th>RS_Errors_postCLNZ</th>\n",
       "      <th>Age on Day 1-VEH</th>\n",
       "      <th>Age on Day 2-CLNZ</th>\n",
       "      <th>Age on Day 3-postCLNZ</th>\n",
       "    </tr>\n",
       "  </thead>\n",
       "  <tbody>\n",
       "    <tr>\n",
       "      <th>3</th>\n",
       "      <td>13-3</td>\n",
       "      <td>HET</td>\n",
       "      <td>F</td>\n",
       "      <td>15</td>\n",
       "      <td>31</td>\n",
       "      <td>3</td>\n",
       "      <td>11</td>\n",
       "      <td>15</td>\n",
       "      <td>13</td>\n",
       "      <td>4</td>\n",
       "      <td>2</td>\n",
       "      <td>11.0</td>\n",
       "      <td>21.0</td>\n",
       "      <td>0.0</td>\n",
       "      <td>7.0</td>\n",
       "      <td>106 days</td>\n",
       "      <td>107 days</td>\n",
       "      <td>120 days</td>\n",
       "    </tr>\n",
       "  </tbody>\n",
       "</table>\n",
       "</div>"
      ],
      "text/plain": [
       "  Mouse ID Geno Sex  IA_TTC_VEH  RS_TTC_VEH  IA_Errors_VEH  RS_Errors_VEH  \\\n",
       "3     13-3  HET   F          15          31              3             11   \n",
       "\n",
       "   IA_TTC_CLNZ  RS_TTC_CLNZ  IA_Errors_CLNZ  RS_Errors_CLNZ  IA_TTC_postCLNZ  \\\n",
       "3           15           13               4               2             11.0   \n",
       "\n",
       "   RS_TTC_postCLNZ  IA_Errors_postCLNZ  RS_Errors_postCLNZ Age on Day 1-VEH  \\\n",
       "3             21.0                 0.0                 7.0         106 days   \n",
       "\n",
       "  Age on Day 2-CLNZ Age on Day 3-postCLNZ  \n",
       "3          107 days              120 days  "
      ]
     },
     "execution_count": 2,
     "metadata": {},
     "output_type": "execute_result"
    }
   ],
   "source": [
    "dataset_xls = pd.read_excel(data_location / \"2024_Dlx Inscopix_Task Performance.xlsx\", parse_dates = [2, 5,12,19], header = 0, dtype = str)\n",
    "date_cols = [e for e in dataset_xls.columns if 'Date' in e]\n",
    "dataset_xls = dataset_xls\n",
    "dataset_xls['Age on Day 1-VEH'] = dataset_xls['Date run - VEH']- dataset_xls['DOB']\n",
    "dataset_xls['Age on Day 2-CLNZ'] = dataset_xls['Date run - CLZ']- dataset_xls['DOB']\n",
    "dataset_xls['Age on Day 3-postCLNZ'] = dataset_xls['Date run - POST']- dataset_xls['DOB']\n",
    "##set param cols\n",
    "str_to_drop = [\"Cells\", \"DOB\", \"Date\", \">\", \"<\", 'Age-Run1']\n",
    "numeric_cols_flag = [\"IA\", \"RS\", \"Cells\"]\n",
    "metadata_col = [e for e in dataset_xls.columns if any(match_str in e for match_str in str_to_drop)] #return iterable element of dataset columns if said column contains any relevant substrign within the list of strings I include\n",
    "print(metadata_col)\n",
    "metadata_df = dataset_xls[metadata_col]\n",
    "dataset_xls.drop(labels =metadata_col,axis = 1, inplace = True)\n",
    "dataset_xls.replace(to_replace = \"?\", value = np.nan, inplace = True)\n",
    "numeric_cols = [col for col in dataset_xls.columns if any(match_s in col for match_s in numeric_cols_flag)]\n",
    "ID_cols = [col for col in dataset_xls.columns if any(match_str in col for match_str in ['ID', 'Geno', 'elapsed', 'Sex'])]\n",
    "behav_cols =  [col for col in dataset_xls.columns if col not in ID_cols]\n",
    "dataset_xls[numeric_cols] =dataset_xls[numeric_cols].apply(pd.to_numeric)\n",
    "dataset_xls.sample()"
   ]
  },
  {
   "cell_type": "markdown",
   "metadata": {
    "id": "iXsB3jZMzTdG"
   },
   "source": [
    "import behavior df with info on perserverative vs random errors:"
   ]
  },
  {
   "cell_type": "code",
   "execution_count": 3,
   "metadata": {
    "colab": {
     "base_uri": "https://localhost:8080/",
     "height": 1000
    },
    "execution": {
     "iopub.execute_input": "2025-08-29T05:00:26.589059Z",
     "iopub.status.busy": "2025-08-29T05:00:26.588061Z",
     "iopub.status.idle": "2025-08-29T05:00:26.822116Z",
     "shell.execute_reply": "2025-08-29T05:00:26.822116Z"
    },
    "id": "WdMXZYqUzXfb",
    "outputId": "61a0ffc3-412b-40d2-e910-2c715b904052"
   },
   "outputs": [
    {
     "name": "stdout",
     "output_type": "stream",
     "text": [
      "['Het VEH' 'WT VEH' 'Het CLNZ' 'WT CLNZ' 'Het postCLNZ']\n"
     ]
    },
    {
     "data": {
      "text/html": [
       "<div>\n",
       "<style scoped>\n",
       "    .dataframe tbody tr th:only-of-type {\n",
       "        vertical-align: middle;\n",
       "    }\n",
       "\n",
       "    .dataframe tbody tr th {\n",
       "        vertical-align: top;\n",
       "    }\n",
       "\n",
       "    .dataframe thead th {\n",
       "        text-align: right;\n",
       "    }\n",
       "</style>\n",
       "<table border=\"1\" class=\"dataframe\">\n",
       "  <thead>\n",
       "    <tr style=\"text-align: right;\">\n",
       "      <th></th>\n",
       "      <th>Mouse ID</th>\n",
       "      <th>Geno</th>\n",
       "      <th>Sex</th>\n",
       "      <th>Performance</th>\n",
       "      <th>measure</th>\n",
       "      <th>day</th>\n",
       "      <th>data_type</th>\n",
       "      <th>rule</th>\n",
       "      <th>geno_day</th>\n",
       "    </tr>\n",
       "  </thead>\n",
       "  <tbody>\n",
       "    <tr>\n",
       "      <th>143</th>\n",
       "      <td>9-3</td>\n",
       "      <td>HET</td>\n",
       "      <td>F</td>\n",
       "      <td>Random_Error</td>\n",
       "      <td>1.0</td>\n",
       "      <td>postCLNZ</td>\n",
       "      <td>Error</td>\n",
       "      <td>Random</td>\n",
       "      <td>Het postCLNZ</td>\n",
       "    </tr>\n",
       "    <tr>\n",
       "      <th>144</th>\n",
       "      <td>13-3</td>\n",
       "      <td>HET</td>\n",
       "      <td>F</td>\n",
       "      <td>Random_Error</td>\n",
       "      <td>0.0</td>\n",
       "      <td>postCLNZ</td>\n",
       "      <td>Error</td>\n",
       "      <td>Random</td>\n",
       "      <td>Het postCLNZ</td>\n",
       "    </tr>\n",
       "    <tr>\n",
       "      <th>145</th>\n",
       "      <td>13-5</td>\n",
       "      <td>HET</td>\n",
       "      <td>M</td>\n",
       "      <td>Random_Error</td>\n",
       "      <td>0.0</td>\n",
       "      <td>postCLNZ</td>\n",
       "      <td>Error</td>\n",
       "      <td>Random</td>\n",
       "      <td>Het postCLNZ</td>\n",
       "    </tr>\n",
       "    <tr>\n",
       "      <th>146</th>\n",
       "      <td>13-8</td>\n",
       "      <td>HET</td>\n",
       "      <td>M</td>\n",
       "      <td>Random_Error</td>\n",
       "      <td>0.0</td>\n",
       "      <td>postCLNZ</td>\n",
       "      <td>Error</td>\n",
       "      <td>Random</td>\n",
       "      <td>Het postCLNZ</td>\n",
       "    </tr>\n",
       "    <tr>\n",
       "      <th>147</th>\n",
       "      <td>15-1</td>\n",
       "      <td>HET</td>\n",
       "      <td>M</td>\n",
       "      <td>Random_Error</td>\n",
       "      <td>1.0</td>\n",
       "      <td>postCLNZ</td>\n",
       "      <td>Error</td>\n",
       "      <td>Random</td>\n",
       "      <td>Het postCLNZ</td>\n",
       "    </tr>\n",
       "  </tbody>\n",
       "</table>\n",
       "</div>"
      ],
      "text/plain": [
       "    Mouse ID Geno Sex   Performance  measure       day data_type    rule  \\\n",
       "143      9-3  HET   F  Random_Error      1.0  postCLNZ     Error  Random   \n",
       "144     13-3  HET   F  Random_Error      0.0  postCLNZ     Error  Random   \n",
       "145     13-5  HET   M  Random_Error      0.0  postCLNZ     Error  Random   \n",
       "146     13-8  HET   M  Random_Error      0.0  postCLNZ     Error  Random   \n",
       "147     15-1  HET   M  Random_Error      1.0  postCLNZ     Error  Random   \n",
       "\n",
       "         geno_day  \n",
       "143  Het postCLNZ  \n",
       "144  Het postCLNZ  \n",
       "145  Het postCLNZ  \n",
       "146  Het postCLNZ  \n",
       "147  Het postCLNZ  "
      ]
     },
     "execution_count": 3,
     "metadata": {},
     "output_type": "execute_result"
    }
   ],
   "source": [
    "behav_detail_csv = 'Inscopix Mice Rules and Error types by session.xlsx'\n",
    "behav_detail = pd.read_excel(data_location / behav_detail_csv, header = 0)\n",
    "## merge\n",
    "behavior_details_df = dataset_xls.merge(behav_detail.loc[:, ['Mouse ID'] + [x for x in behav_detail.columns if \"Error\" in x]], how = 'left', on = 'Mouse ID').drop([x for x in dataset_xls.columns if \"Age\" in x],axis = 1)\n",
    "behav_long = behavior_details_df.melt(id_vars = ID_cols, var_name = 'Performance', value_name = 'measure').dropna(subset = 'measure')\n",
    "## add description cols\n",
    "behav_long['day']= behav_long.Performance.str.rpartition(\"_\")[2] #get treatment_suffix\n",
    "behav_long['data_type']=behav_long.Performance.str.split(\"_\").str.get(1) #get measure_type\n",
    "behav_long['Performance']=behav_long.Performance.str.rpartition(\"_\")[0] #get rule + measure_type\n",
    "behav_long['rule'] = behav_long.Performance.str.split(\"_\").str.get(0) #get rule_prefix\n",
    "behav_long['geno_day']= behav_long['Geno'].str.cat(behav_long['day'], sep = '_') .map({o:n for o,n in zip([\"WT_VEH\", \"WT_CLNZ\", \"HET_VEH\", \"HET_CLNZ\", \"HET_postCLNZ\"], geno_order_w_WT_CLNZ)})#clean up rough concat. with established label types\n",
    "behav_long = behav_long.dropna().reset_index().drop('index', axis = 1)\n",
    "print(behav_long.geno_day.unique())\n",
    "behav_long.tail()"
   ]
  },
  {
   "cell_type": "markdown",
   "metadata": {
    "id": "_hlKtVyEhcP6"
   },
   "source": [
    "#### Figure 1 I, J, K: IA and RS trials to completion, and perseverative errors "
   ]
  },
  {
   "cell_type": "code",
   "execution_count": 4,
   "metadata": {
    "colab": {
     "base_uri": "https://localhost:8080/",
     "height": 332
    },
    "execution": {
     "iopub.execute_input": "2025-08-29T05:00:26.824647Z",
     "iopub.status.busy": "2025-08-29T05:00:26.823645Z",
     "iopub.status.idle": "2025-08-29T05:00:29.564523Z",
     "shell.execute_reply": "2025-08-29T05:00:29.563509Z"
    },
    "id": "X55LVu-zkLSZ",
    "outputId": "29d19a4c-0744-4405-84c8-257973bb9eb2"
   },
   "outputs": [
    {
     "name": "stdout",
     "output_type": "stream",
     "text": [
      "With axis variable == Hue variable:\n",
      "Saved 1_IA Performance_behav_posthoc MWU_28_Aug_2025.csv to C:\\Users\\13car\\Dropbox\\local_github_repos_personal\\dlx56_mPFC_1p_SohalLab\\results\\analysis_CSV_output\n",
      "Output saved to C:\\Users\\13car\\Dropbox\\local_github_repos_personal\\dlx56_mPFC_1p_SohalLab\\results\\analysis_CSV_output\\1_IA Performance_behav_posthoc_text_28_Aug_2025.txt\n",
      "With axis variable == Hue variable:\n"
     ]
    },
    {
     "name": "stdout",
     "output_type": "stream",
     "text": [
      "Saved 1_RS Performance_behav_posthoc MWU_28_Aug_2025.csv to C:\\Users\\13car\\Dropbox\\local_github_repos_personal\\dlx56_mPFC_1p_SohalLab\\results\\analysis_CSV_output\n",
      "Output saved to C:\\Users\\13car\\Dropbox\\local_github_repos_personal\\dlx56_mPFC_1p_SohalLab\\results\\analysis_CSV_output\\1_RS Performance_behav_posthoc_text_28_Aug_2025.txt\n",
      "With axis variable == Hue variable:\n"
     ]
    },
    {
     "name": "stdout",
     "output_type": "stream",
     "text": [
      "Saved 1_# Perseverative Errors_behav_posthoc MWU_28_Aug_2025.csv to C:\\Users\\13car\\Dropbox\\local_github_repos_personal\\dlx56_mPFC_1p_SohalLab\\results\\analysis_CSV_output\n",
      "Output saved to C:\\Users\\13car\\Dropbox\\local_github_repos_personal\\dlx56_mPFC_1p_SohalLab\\results\\analysis_CSV_output\\1_# Perseverative Errors_behav_posthoc_text_28_Aug_2025.txt\n",
      "The folder 'C:\\Users\\13car\\Dropbox\\local_github_repos_personal\\dlx56_mPFC_1p_SohalLab\\results\\fig_1' has been created.\n",
      "The folder 'C:\\Users\\13car\\Dropbox\\local_github_repos_personal\\dlx56_mPFC_1p_SohalLab\\results\\fig_1\\28_Aug_2025' has been created.\n"
     ]
    },
    {
     "name": "stdout",
     "output_type": "stream",
     "text": [
      "Saved 1_IA_RS division_Dlx Inscopix Behavior by Genotype_behav_posthoc MWU_28_Aug_2025.csv to C:\\Users\\13car\\Dropbox\\local_github_repos_personal\\dlx56_mPFC_1p_SohalLab\\results\\analysis_CSV_output\n",
      "Output saved to C:\\Users\\13car\\Dropbox\\local_github_repos_personal\\dlx56_mPFC_1p_SohalLab\\results\\analysis_CSV_output\\1_IA_RS division_Dlx Inscopix Behavior by Genotype_behav_posthoc_text_28_Aug_2025.txt\n"
     ]
    },
    {
     "data": {
      "image/png": "[encoded data removed]",
      "text/plain": [
       "<Figure size 862.5x225 with 3 Axes>"
      ]
     },
     "metadata": {},
     "output_type": "display_data"
    }
   ],
   "source": [
    "#parameters for figures\n",
    "col_iter = ['IA_TTC', 'RS_TTC', 'Perseverative_Error']\n",
    "titles = [\"IA Performance\", \"RS Performance\", \"# Perseverative Errors\"]\n",
    "ylabels = ['# Trials to Complete', '# Trials to Complete', '# Errors']\n",
    "plot_range_limit = {\"IA_TTC\": 20, \"RS_TTC\": 45, \"Perseverative_Error\": 17}\n",
    "pairs_to_compare = [('WT VEH',  'Het VEH'),('WT VEH', 'WT CLNZ'), ('WT CLNZ',  'Het VEH'),  ('Het VEH', 'Het CLNZ'), ('Het VEH', 'Het postCLNZ')]\n",
    "## Figure creation code \n",
    "fig, ax = plt.subplots(1, len(col_iter), figsize = (5.75,1.5), layout = 'constrained', gridspec_kw = {'wspace': 0.01})\n",
    "behav_posthoc_list = []\n",
    "## loop over all comparisons\n",
    "for col_count, col_elem in enumerate(col_iter):## iterate over data types\n",
    "    plot_mask = (behav_long['Performance'] == col_elem)\n",
    "    plot_ax = ax[col_count]\n",
    "    plot_params = {'data':behav_long.loc[plot_mask,:], 'x':'geno_day', 'y':'measure', 'order': geno_order_w_WT_CLNZ,\n",
    "                   'hue':'geno_day', 'hue_order':geno_order_w_WT_CLNZ,'palette': color_list_WT_CLNZ,}\n",
    "    sc = sns.barplot(ax = plot_ax, dodge = False,**plot_params, errorbar=None, linewidth = 1, alpha=0.25) \n",
    "    ax_title = f\"{titles[col_count]}\"\n",
    "    set_ax_title_xlabel_ylabel(plot_ax, {'title': ax_title, 'legend_false': True, 'ylabel': f\"{ylabels[col_count]}\", 'xlim': [None, None],'ylim':[0, plot_range_limit[col_elem]], })\n",
    "    #alter axis x ticks\n",
    "    plot_ax.set_xticks(plot_ax.get_xticks());\n",
    "    plot_ax.yaxis.get_major_locator().set_params(integer=True)\n",
    "    ##NEW- plot scatter over\n",
    "    sc = sns.stripplot(ax = plot_ax, dodge = False,**plot_params, alpha=0.75, s = 3,legend=False) \n",
    "    set_pointplot_edgecolor(plot_ax, edge_color = 'black', linewidth = marker_edge_width)\n",
    "    #posthoc df- on stripplot\n",
    "    posthoc_df = main_run_posthoc_tests_and_get_hue_loc_df(plot_ax, plot_params, sc, pairs_to_compare, test_name = 'MWU',ax_var_is_hue=True, detect_error_bar = False, plot_type = 'stripplot')\n",
    "    plot_sig_bars_w_comp_df_tight(plot_ax, posthoc_df[posthoc_df['pvalue'] < 0.05], tight_offset = 0.06,offset_constant = 0.01,debug = False) #default_star_bbox_size = 0.045 #in ax fraction, determined empirically\n",
    "    behav_posthoc_list.append(posthoc_df.assign(numeric_var=col_elem))#store posthoc comparison\n",
    "    set_ax_title_xlabel_ylabel(plot_ax, {'xlabel':  None,})\n",
    "    plot_ax.set_xticklabels([x.get_text().replace(\" \", \"\\n\") for x in plot_ax.get_xticklabels()])\n",
    "    #save each sub component as own CSV\n",
    "    save_plot_record_as_csv_txt(posthoc_df.assign(numeric_var=col_elem),folder_pref:=\"1\",ax_title,csv_folder_most_recent, None, csv_suffix=\"behav_posthoc MWU\",txt_suffix=\"behav_posthoc_text\")\n",
    "#save figs \n",
    "fig_name =\"IA_RS division_Dlx Inscopix Behavior by Genotype\"\n",
    "save_fig_in_main_fig_dir(fig, fig_name= fig_name, folder_key=1, filetypes_to_save = ['png', 'pdf', 'svg'])\n",
    "behav_posthoc_df = pd.concat(behav_posthoc_list, axis = 0)\n",
    "save_plot_record_as_csv_txt(behav_posthoc_df,folder_pref:=\"1\",fig_name,csv_folder_most_recent, None, csv_suffix=\"behav_posthoc MWU\",txt_suffix=\"behav_posthoc_text\")"
   ]
  },
  {
   "cell_type": "markdown",
   "metadata": {
    "id": "iDctn6hykvBC"
   },
   "source": [
    "#### Figure 1I,J,K ANOVAs on IA/RS TTC & Persev. Errors"
   ]
  },
  {
   "cell_type": "code",
   "execution_count": 5,
   "metadata": {
    "colab": {
     "base_uri": "https://localhost:8080/",
     "height": 175
    },
    "execution": {
     "iopub.execute_input": "2025-08-29T05:00:29.568587Z",
     "iopub.status.busy": "2025-08-29T05:00:29.566830Z",
     "iopub.status.idle": "2025-08-29T05:00:30.147323Z",
     "shell.execute_reply": "2025-08-29T05:00:30.144795Z"
    },
    "id": "HycRUkvXkw_1",
    "outputId": "bc17d208-51e2-40bd-965d-f0f656078892"
   },
   "outputs": [
    {
     "name": "stdout",
     "output_type": "stream",
     "text": [
      "Saved 1_behavior_perseverative_error_anova_28_Aug_2025.csv to C:\\Users\\13car\\Dropbox\\local_github_repos_personal\\dlx56_mPFC_1p_SohalLab\\results\\analysis_CSV_output\n"
     ]
    },
    {
     "data": {
      "text/html": [
       "<div>\n",
       "<style scoped>\n",
       "    .dataframe tbody tr th:only-of-type {\n",
       "        vertical-align: middle;\n",
       "    }\n",
       "\n",
       "    .dataframe tbody tr th {\n",
       "        vertical-align: top;\n",
       "    }\n",
       "\n",
       "    .dataframe thead th {\n",
       "        text-align: right;\n",
       "    }\n",
       "</style>\n",
       "<table border=\"1\" class=\"dataframe\">\n",
       "  <thead>\n",
       "    <tr style=\"text-align: right;\">\n",
       "      <th></th>\n",
       "      <th>Source</th>\n",
       "      <th>SS</th>\n",
       "      <th>DF</th>\n",
       "      <th>MS</th>\n",
       "      <th>F</th>\n",
       "      <th>p-unc</th>\n",
       "      <th>np2</th>\n",
       "    </tr>\n",
       "  </thead>\n",
       "  <tbody>\n",
       "    <tr>\n",
       "      <th>0</th>\n",
       "      <td>Geno</td>\n",
       "      <td>237.370507</td>\n",
       "      <td>1.0</td>\n",
       "      <td>237.370507</td>\n",
       "      <td>41.932960</td>\n",
       "      <td>2.759452e-07</td>\n",
       "      <td>0.567175</td>\n",
       "    </tr>\n",
       "    <tr>\n",
       "      <th>1</th>\n",
       "      <td>day</td>\n",
       "      <td>215.608602</td>\n",
       "      <td>2.0</td>\n",
       "      <td>107.804301</td>\n",
       "      <td>19.044293</td>\n",
       "      <td>3.564863e-06</td>\n",
       "      <td>0.543435</td>\n",
       "    </tr>\n",
       "    <tr>\n",
       "      <th>2</th>\n",
       "      <td>Geno * day</td>\n",
       "      <td>58.486636</td>\n",
       "      <td>2.0</td>\n",
       "      <td>29.243318</td>\n",
       "      <td>5.166012</td>\n",
       "      <td>1.136829e-02</td>\n",
       "      <td>0.244071</td>\n",
       "    </tr>\n",
       "    <tr>\n",
       "      <th>3</th>\n",
       "      <td>Residual</td>\n",
       "      <td>181.142857</td>\n",
       "      <td>32.0</td>\n",
       "      <td>5.660714</td>\n",
       "      <td>NaN</td>\n",
       "      <td>NaN</td>\n",
       "      <td>NaN</td>\n",
       "    </tr>\n",
       "  </tbody>\n",
       "</table>\n",
       "</div>"
      ],
      "text/plain": [
       "       Source          SS    DF          MS          F         p-unc       np2\n",
       "0        Geno  237.370507   1.0  237.370507  41.932960  2.759452e-07  0.567175\n",
       "1         day  215.608602   2.0  107.804301  19.044293  3.564863e-06  0.543435\n",
       "2  Geno * day   58.486636   2.0   29.243318   5.166012  1.136829e-02  0.244071\n",
       "3    Residual  181.142857  32.0    5.660714        NaN           NaN       NaN"
      ]
     },
     "execution_count": 5,
     "metadata": {},
     "output_type": "execute_result"
    }
   ],
   "source": [
    "#stats on groups- perseverative errors\n",
    "comparison_iters = ['IA_TTC', 'RS_TTC', 'Perseverative_Error']\n",
    "mask = behav_long['Performance'] == comparison_iters[2]\n",
    "perseverative_error_anova = png.anova(data = behav_long.loc[mask,:], between = ['Geno', 'day'], dv = 'measure', detailed = True)\n",
    "##save perseverative anova\n",
    "csv_name = f\"1_behavior_perseverative_error_anova_{date_tag}.csv\"\n",
    "save_csv_to_analysis_storage(perseverative_error_anova, csv_name, csv_folder_most_recent, None)\n",
    "perseverative_error_anova"
   ]
  },
  {
   "cell_type": "code",
   "execution_count": 6,
   "metadata": {
    "colab": {
     "base_uri": "https://localhost:8080/",
     "height": 175
    },
    "execution": {
     "iopub.execute_input": "2025-08-29T05:00:30.149626Z",
     "iopub.status.busy": "2025-08-29T05:00:30.149626Z",
     "iopub.status.idle": "2025-08-29T05:00:30.175524Z",
     "shell.execute_reply": "2025-08-29T05:00:30.175524Z"
    },
    "id": "_uiOlO6Bs4Oh",
    "outputId": "40d10e07-9520-4254-dc22-d79ab7bbd57a",
    "scrolled": true
   },
   "outputs": [
    {
     "name": "stdout",
     "output_type": "stream",
     "text": [
      "Saved 1_behavior_RS_ttc_anova_28_Aug_2025.csv to C:\\Users\\13car\\Dropbox\\local_github_repos_personal\\dlx56_mPFC_1p_SohalLab\\results\\analysis_CSV_output\n"
     ]
    },
    {
     "data": {
      "text/html": [
       "<div>\n",
       "<style scoped>\n",
       "    .dataframe tbody tr th:only-of-type {\n",
       "        vertical-align: middle;\n",
       "    }\n",
       "\n",
       "    .dataframe tbody tr th {\n",
       "        vertical-align: top;\n",
       "    }\n",
       "\n",
       "    .dataframe thead th {\n",
       "        text-align: right;\n",
       "    }\n",
       "</style>\n",
       "<table border=\"1\" class=\"dataframe\">\n",
       "  <thead>\n",
       "    <tr style=\"text-align: right;\">\n",
       "      <th></th>\n",
       "      <th>Source</th>\n",
       "      <th>SS</th>\n",
       "      <th>DF</th>\n",
       "      <th>MS</th>\n",
       "      <th>F</th>\n",
       "      <th>p-unc</th>\n",
       "      <th>np2</th>\n",
       "    </tr>\n",
       "  </thead>\n",
       "  <tbody>\n",
       "    <tr>\n",
       "      <th>0</th>\n",
       "      <td>Geno</td>\n",
       "      <td>2262.917358</td>\n",
       "      <td>1.0</td>\n",
       "      <td>2262.917358</td>\n",
       "      <td>129.822894</td>\n",
       "      <td>8.481652e-13</td>\n",
       "      <td>0.802253</td>\n",
       "    </tr>\n",
       "    <tr>\n",
       "      <th>1</th>\n",
       "      <td>day</td>\n",
       "      <td>3628.193548</td>\n",
       "      <td>2.0</td>\n",
       "      <td>1814.096774</td>\n",
       "      <td>104.074191</td>\n",
       "      <td>9.879274e-15</td>\n",
       "      <td>0.866749</td>\n",
       "    </tr>\n",
       "    <tr>\n",
       "      <th>2</th>\n",
       "      <td>Geno * day</td>\n",
       "      <td>689.830261</td>\n",
       "      <td>2.0</td>\n",
       "      <td>344.915131</td>\n",
       "      <td>19.787678</td>\n",
       "      <td>2.547906e-06</td>\n",
       "      <td>0.552919</td>\n",
       "    </tr>\n",
       "    <tr>\n",
       "      <th>3</th>\n",
       "      <td>Residual</td>\n",
       "      <td>557.785714</td>\n",
       "      <td>32.0</td>\n",
       "      <td>17.430804</td>\n",
       "      <td>NaN</td>\n",
       "      <td>NaN</td>\n",
       "      <td>NaN</td>\n",
       "    </tr>\n",
       "  </tbody>\n",
       "</table>\n",
       "</div>"
      ],
      "text/plain": [
       "       Source           SS    DF           MS           F         p-unc  \\\n",
       "0        Geno  2262.917358   1.0  2262.917358  129.822894  8.481652e-13   \n",
       "1         day  3628.193548   2.0  1814.096774  104.074191  9.879274e-15   \n",
       "2  Geno * day   689.830261   2.0   344.915131   19.787678  2.547906e-06   \n",
       "3    Residual   557.785714  32.0    17.430804         NaN           NaN   \n",
       "\n",
       "        np2  \n",
       "0  0.802253  \n",
       "1  0.866749  \n",
       "2  0.552919  \n",
       "3       NaN  "
      ]
     },
     "execution_count": 6,
     "metadata": {},
     "output_type": "execute_result"
    }
   ],
   "source": [
    "#stats on groups- RS TTC\n",
    "comparison_iters = ['IA_TTC', 'RS_TTC', 'Perseverative_Error']\n",
    "mask = behav_long['Performance'] == comparison_iters[1]\n",
    "RS_ttc_anova = png.anova(data = behav_long.loc[mask,:], between = ['Geno', 'day'], dv = 'measure', detailed = True)\n",
    "csv_name = f\"1_behavior_RS_ttc_anova_{date_tag}.csv\"\n",
    "save_csv_to_analysis_storage(RS_ttc_anova, csv_name, csv_folder_most_recent, None)\n",
    "RS_ttc_anova"
   ]
  },
  {
   "cell_type": "markdown",
   "metadata": {},
   "source": [
    "#### Additional Info: Number of correct/error trials present in early and late task stages"
   ]
  },
  {
   "cell_type": "code",
   "execution_count": 7,
   "metadata": {
    "execution": {
     "iopub.execute_input": "2025-08-29T05:00:30.177688Z",
     "iopub.status.busy": "2025-08-29T05:00:30.177688Z",
     "iopub.status.idle": "2025-08-29T05:00:30.185251Z",
     "shell.execute_reply": "2025-08-29T05:00:30.185251Z"
    }
   },
   "outputs": [
    {
     "data": {
      "text/html": [
       "<div>\n",
       "<style scoped>\n",
       "    .dataframe tbody tr th:only-of-type {\n",
       "        vertical-align: middle;\n",
       "    }\n",
       "\n",
       "    .dataframe tbody tr th {\n",
       "        vertical-align: top;\n",
       "    }\n",
       "\n",
       "    .dataframe thead th {\n",
       "        text-align: right;\n",
       "    }\n",
       "</style>\n",
       "<table border=\"1\" class=\"dataframe\">\n",
       "  <thead>\n",
       "    <tr style=\"text-align: right;\">\n",
       "      <th></th>\n",
       "      <th>Unnamed: 0</th>\n",
       "      <th>name</th>\n",
       "      <th>task_phase_vec</th>\n",
       "      <th>count</th>\n",
       "    </tr>\n",
       "  </thead>\n",
       "  <tbody>\n",
       "    <tr>\n",
       "      <th>199</th>\n",
       "      <td>199</td>\n",
       "      <td>9_3_HET_RS3</td>\n",
       "      <td>Late_RS</td>\n",
       "      <td>4</td>\n",
       "    </tr>\n",
       "    <tr>\n",
       "      <th>200</th>\n",
       "      <td>200</td>\n",
       "      <td>9_3_HET_RS3</td>\n",
       "      <td>Early_IA_Correct</td>\n",
       "      <td>3</td>\n",
       "    </tr>\n",
       "    <tr>\n",
       "      <th>201</th>\n",
       "      <td>201</td>\n",
       "      <td>9_3_HET_RS3</td>\n",
       "      <td>Early_RS_Correct</td>\n",
       "      <td>3</td>\n",
       "    </tr>\n",
       "    <tr>\n",
       "      <th>202</th>\n",
       "      <td>202</td>\n",
       "      <td>9_3_HET_RS3</td>\n",
       "      <td>Early_IA_Error</td>\n",
       "      <td>2</td>\n",
       "    </tr>\n",
       "    <tr>\n",
       "      <th>203</th>\n",
       "      <td>203</td>\n",
       "      <td>9_3_HET_RS3</td>\n",
       "      <td>Early_RS_Error</td>\n",
       "      <td>2</td>\n",
       "    </tr>\n",
       "  </tbody>\n",
       "</table>\n",
       "</div>"
      ],
      "text/plain": [
       "     Unnamed: 0         name    task_phase_vec  count\n",
       "199         199  9_3_HET_RS3           Late_RS      4\n",
       "200         200  9_3_HET_RS3  Early_IA_Correct      3\n",
       "201         201  9_3_HET_RS3  Early_RS_Correct      3\n",
       "202         202  9_3_HET_RS3    Early_IA_Error      2\n",
       "203         203  9_3_HET_RS3    Early_RS_Error      2"
      ]
     },
     "execution_count": 7,
     "metadata": {},
     "output_type": "execute_result"
    }
   ],
   "source": [
    "csv_name = f\"Task Stage Trial count per Subject.csv\"\n",
    "num_stage_trials = pd.read_csv( data_location / csv_name)\n",
    "num_stage_trials.tail()"
   ]
  },
  {
   "cell_type": "code",
   "execution_count": 8,
   "metadata": {
    "execution": {
     "iopub.execute_input": "2025-08-29T05:00:30.187641Z",
     "iopub.status.busy": "2025-08-29T05:00:30.186637Z",
     "iopub.status.idle": "2025-08-29T05:00:30.197990Z",
     "shell.execute_reply": "2025-08-29T05:00:30.197469Z"
    }
   },
   "outputs": [
    {
     "name": "stdout",
     "output_type": "stream",
     "text": [
      " % of total Late IA/RS Trials that are error: task_phase_vec\n",
      "Late_IA    1.744186\n",
      "Late_RS    8.024691\n",
      "dtype: float64\n"
     ]
    }
   ],
   "source": [
    "late_stage_trials = num_stage_trials[num_stage_trials.task_phase_vec.str.contains(\"Late\")]\n",
    "wide_late_trials= late_stage_trials.pivot_table(columns = 'task_phase_vec', values = 'count', index = 'name') \n",
    "print(f\" % of total Late IA/RS Trials that are error: {100* np.abs(wide_late_trials - 5).sum()/wide_late_trials.sum()}\")\n"
   ]
  },
  {
   "cell_type": "markdown",
   "metadata": {},
   "source": [
    "#### Additional info: Quantifying gender effects"
   ]
  },
  {
   "cell_type": "code",
   "execution_count": 9,
   "metadata": {
    "execution": {
     "iopub.execute_input": "2025-08-29T05:00:30.200333Z",
     "iopub.status.busy": "2025-08-29T05:00:30.199706Z",
     "iopub.status.idle": "2025-08-29T05:00:31.726812Z",
     "shell.execute_reply": "2025-08-29T05:00:31.726812Z"
    }
   },
   "outputs": [
    {
     "name": "stdout",
     "output_type": "stream",
     "text": [
      "The folder 'C:\\Users\\13car\\Dropbox\\local_github_repos_personal\\dlx56_mPFC_1p_SohalLab\\results\\supp_fig_1' has been created."
     ]
    },
    {
     "name": "stdout",
     "output_type": "stream",
     "text": [
      "\n",
      "The folder 'C:\\Users\\13car\\Dropbox\\local_github_repos_personal\\dlx56_mPFC_1p_SohalLab\\results\\supp_fig_1\\28_Aug_2025' has been created.\n"
     ]
    },
    {
     "data": {
      "image/png": "[encoded data removed]",
      "text/plain": [
       "<Figure size 750x300 with 3 Axes>"
      ]
     },
     "metadata": {},
     "output_type": "display_data"
    }
   ],
   "source": [
    "fig, ax_array = plt.subplots(1,3,figsize = (5,2), layout = 'constrained',sharex = False)\n",
    "ylim_list = [[0,22], [0,35], [0,15]]\n",
    "for n_plot, plot_type in enumerate(col_iter):\n",
    "    plot_ax = ax_array[n_plot]\n",
    "    plot_params = {'data':behav_long[behav_long.Performance == plot_type], 'x':'geno_day', 'y':'measure', 'order' : geno_order_w_WT_CLNZ, 'hue':'Sex', 'hue_order': ['M', 'F'], 'dodge':0.4}\n",
    "    sc = sns.stripplot(ax = plot_ax, **plot_params, )\n",
    "    set_ax_title_xlabel_ylabel(plot_ax, {'title': f\"{titles[n_plot]}\", 'xlabel':  None, 'ylabel': f\"{ylabels[n_plot]}\", 'ylim':ylim_list[n_plot], })\n",
    "    plot_ax.set_xticks(plot_ax.get_xticks());\n",
    "    plot_ax.set_xticklabels(plot_ax.get_xticklabels(), rotation = 30, ha=\"right\")\n",
    "    plot_ax.yaxis.get_major_locator().set_params(integer=True)\n",
    "save_fig_in_main_fig_dir(fig,fig_name =\"Supplementary Info- Male v Female IA RS TTC & Errors\", folder_key='s_1', filetypes_to_save = ['png', 'svg'])"
   ]
  },
  {
   "cell_type": "code",
   "execution_count": 10,
   "metadata": {
    "execution": {
     "iopub.execute_input": "2025-08-29T05:00:31.729350Z",
     "iopub.status.busy": "2025-08-29T05:00:31.729350Z",
     "iopub.status.idle": "2025-08-29T05:00:31.823485Z",
     "shell.execute_reply": "2025-08-29T05:00:31.823485Z"
    }
   },
   "outputs": [
    {
     "name": "stdout",
     "output_type": "stream",
     "text": [
      "Saved 1_Geno_day x Sex Anova on behavior results_28_Aug_2025.csv to C:\\Users\\13car\\Dropbox\\local_github_repos_personal\\dlx56_mPFC_1p_SohalLab\\results\\analysis_CSV_output\n"
     ]
    },
    {
     "data": {
      "text/html": [
       "<div>\n",
       "<style scoped>\n",
       "    .dataframe tbody tr th:only-of-type {\n",
       "        vertical-align: middle;\n",
       "    }\n",
       "\n",
       "    .dataframe tbody tr th {\n",
       "        vertical-align: top;\n",
       "    }\n",
       "\n",
       "    .dataframe thead th {\n",
       "        text-align: right;\n",
       "    }\n",
       "</style>\n",
       "<table border=\"1\" class=\"dataframe\">\n",
       "  <thead>\n",
       "    <tr style=\"text-align: right;\">\n",
       "      <th></th>\n",
       "      <th>Source</th>\n",
       "      <th>SS</th>\n",
       "      <th>DF</th>\n",
       "      <th>MS</th>\n",
       "      <th>F</th>\n",
       "      <th>p-unc</th>\n",
       "      <th>np2</th>\n",
       "      <th>section</th>\n",
       "    </tr>\n",
       "  </thead>\n",
       "  <tbody>\n",
       "    <tr>\n",
       "      <th>0</th>\n",
       "      <td>geno_day</td>\n",
       "      <td>5.137180</td>\n",
       "      <td>4.0</td>\n",
       "      <td>1.284295</td>\n",
       "      <td>0.256859</td>\n",
       "      <td>0.902908</td>\n",
       "      <td>0.036658</td>\n",
       "      <td>IA</td>\n",
       "    </tr>\n",
       "    <tr>\n",
       "      <th>1</th>\n",
       "      <td>Sex</td>\n",
       "      <td>3.162973</td>\n",
       "      <td>1.0</td>\n",
       "      <td>3.162973</td>\n",
       "      <td>0.632595</td>\n",
       "      <td>0.433342</td>\n",
       "      <td>0.022893</td>\n",
       "      <td>IA</td>\n",
       "    </tr>\n",
       "    <tr>\n",
       "      <th>2</th>\n",
       "      <td>geno_day * Sex</td>\n",
       "      <td>14.140598</td>\n",
       "      <td>4.0</td>\n",
       "      <td>3.535150</td>\n",
       "      <td>0.707030</td>\n",
       "      <td>0.594147</td>\n",
       "      <td>0.094814</td>\n",
       "      <td>IA</td>\n",
       "    </tr>\n",
       "    <tr>\n",
       "      <th>3</th>\n",
       "      <td>Residual</td>\n",
       "      <td>135.000000</td>\n",
       "      <td>27.0</td>\n",
       "      <td>5.000000</td>\n",
       "      <td>NaN</td>\n",
       "      <td>NaN</td>\n",
       "      <td>NaN</td>\n",
       "      <td>IA</td>\n",
       "    </tr>\n",
       "    <tr>\n",
       "      <th>0</th>\n",
       "      <td>geno_day</td>\n",
       "      <td>527.043767</td>\n",
       "      <td>4.0</td>\n",
       "      <td>131.760942</td>\n",
       "      <td>7.141753</td>\n",
       "      <td>0.000466</td>\n",
       "      <td>0.514100</td>\n",
       "      <td>RS</td>\n",
       "    </tr>\n",
       "    <tr>\n",
       "      <th>1</th>\n",
       "      <td>Sex</td>\n",
       "      <td>2.692054</td>\n",
       "      <td>1.0</td>\n",
       "      <td>2.692054</td>\n",
       "      <td>0.145916</td>\n",
       "      <td>0.705460</td>\n",
       "      <td>0.005375</td>\n",
       "      <td>RS</td>\n",
       "    </tr>\n",
       "    <tr>\n",
       "      <th>2</th>\n",
       "      <td>geno_day * Sex</td>\n",
       "      <td>56.960327</td>\n",
       "      <td>4.0</td>\n",
       "      <td>14.240082</td>\n",
       "      <td>0.771846</td>\n",
       "      <td>0.553047</td>\n",
       "      <td>0.102614</td>\n",
       "      <td>RS</td>\n",
       "    </tr>\n",
       "    <tr>\n",
       "      <th>3</th>\n",
       "      <td>Residual</td>\n",
       "      <td>498.133333</td>\n",
       "      <td>27.0</td>\n",
       "      <td>18.449383</td>\n",
       "      <td>NaN</td>\n",
       "      <td>NaN</td>\n",
       "      <td>NaN</td>\n",
       "      <td>RS</td>\n",
       "    </tr>\n",
       "    <tr>\n",
       "      <th>0</th>\n",
       "      <td>geno_day</td>\n",
       "      <td>106.723682</td>\n",
       "      <td>4.0</td>\n",
       "      <td>26.680920</td>\n",
       "      <td>4.625264</td>\n",
       "      <td>0.005653</td>\n",
       "      <td>0.406607</td>\n",
       "      <td>Perseverative</td>\n",
       "    </tr>\n",
       "    <tr>\n",
       "      <th>1</th>\n",
       "      <td>Sex</td>\n",
       "      <td>3.764200</td>\n",
       "      <td>1.0</td>\n",
       "      <td>3.764200</td>\n",
       "      <td>0.652542</td>\n",
       "      <td>0.426265</td>\n",
       "      <td>0.023598</td>\n",
       "      <td>Perseverative</td>\n",
       "    </tr>\n",
       "    <tr>\n",
       "      <th>2</th>\n",
       "      <td>geno_day * Sex</td>\n",
       "      <td>21.628657</td>\n",
       "      <td>4.0</td>\n",
       "      <td>5.407164</td>\n",
       "      <td>0.937358</td>\n",
       "      <td>0.457320</td>\n",
       "      <td>0.121935</td>\n",
       "      <td>Perseverative</td>\n",
       "    </tr>\n",
       "    <tr>\n",
       "      <th>3</th>\n",
       "      <td>Residual</td>\n",
       "      <td>155.750000</td>\n",
       "      <td>27.0</td>\n",
       "      <td>5.768519</td>\n",
       "      <td>NaN</td>\n",
       "      <td>NaN</td>\n",
       "      <td>NaN</td>\n",
       "      <td>Perseverative</td>\n",
       "    </tr>\n",
       "    <tr>\n",
       "      <th>0</th>\n",
       "      <td>geno_day</td>\n",
       "      <td>7.938581</td>\n",
       "      <td>4.0</td>\n",
       "      <td>1.984645</td>\n",
       "      <td>1.931006</td>\n",
       "      <td>0.134056</td>\n",
       "      <td>0.222440</td>\n",
       "      <td>Random</td>\n",
       "    </tr>\n",
       "    <tr>\n",
       "      <th>1</th>\n",
       "      <td>Sex</td>\n",
       "      <td>1.880415</td>\n",
       "      <td>1.0</td>\n",
       "      <td>1.880415</td>\n",
       "      <td>1.829593</td>\n",
       "      <td>0.187396</td>\n",
       "      <td>0.063462</td>\n",
       "      <td>Random</td>\n",
       "    </tr>\n",
       "    <tr>\n",
       "      <th>2</th>\n",
       "      <td>geno_day * Sex</td>\n",
       "      <td>1.887443</td>\n",
       "      <td>4.0</td>\n",
       "      <td>0.471861</td>\n",
       "      <td>0.459108</td>\n",
       "      <td>0.764984</td>\n",
       "      <td>0.063684</td>\n",
       "      <td>Random</td>\n",
       "    </tr>\n",
       "    <tr>\n",
       "      <th>3</th>\n",
       "      <td>Residual</td>\n",
       "      <td>27.750000</td>\n",
       "      <td>27.0</td>\n",
       "      <td>1.027778</td>\n",
       "      <td>NaN</td>\n",
       "      <td>NaN</td>\n",
       "      <td>NaN</td>\n",
       "      <td>Random</td>\n",
       "    </tr>\n",
       "  </tbody>\n",
       "</table>\n",
       "</div>"
      ],
      "text/plain": [
       "           Source          SS    DF          MS         F     p-unc       np2  \\\n",
       "0        geno_day    5.137180   4.0    1.284295  0.256859  0.902908  0.036658   \n",
       "1             Sex    3.162973   1.0    3.162973  0.632595  0.433342  0.022893   \n",
       "2  geno_day * Sex   14.140598   4.0    3.535150  0.707030  0.594147  0.094814   \n",
       "3        Residual  135.000000  27.0    5.000000       NaN       NaN       NaN   \n",
       "0        geno_day  527.043767   4.0  131.760942  7.141753  0.000466  0.514100   \n",
       "1             Sex    2.692054   1.0    2.692054  0.145916  0.705460  0.005375   \n",
       "2  geno_day * Sex   56.960327   4.0   14.240082  0.771846  0.553047  0.102614   \n",
       "3        Residual  498.133333  27.0   18.449383       NaN       NaN       NaN   \n",
       "0        geno_day  106.723682   4.0   26.680920  4.625264  0.005653  0.406607   \n",
       "1             Sex    3.764200   1.0    3.764200  0.652542  0.426265  0.023598   \n",
       "2  geno_day * Sex   21.628657   4.0    5.407164  0.937358  0.457320  0.121935   \n",
       "3        Residual  155.750000  27.0    5.768519       NaN       NaN       NaN   \n",
       "0        geno_day    7.938581   4.0    1.984645  1.931006  0.134056  0.222440   \n",
       "1             Sex    1.880415   1.0    1.880415  1.829593  0.187396  0.063462   \n",
       "2  geno_day * Sex    1.887443   4.0    0.471861  0.459108  0.764984  0.063684   \n",
       "3        Residual   27.750000  27.0    1.027778       NaN       NaN       NaN   \n",
       "\n",
       "         section  \n",
       "0             IA  \n",
       "1             IA  \n",
       "2             IA  \n",
       "3             IA  \n",
       "0             RS  \n",
       "1             RS  \n",
       "2             RS  \n",
       "3             RS  \n",
       "0  Perseverative  \n",
       "1  Perseverative  \n",
       "2  Perseverative  \n",
       "3  Perseverative  \n",
       "0         Random  \n",
       "1         Random  \n",
       "2         Random  \n",
       "3         Random  "
      ]
     },
     "execution_count": 10,
     "metadata": {},
     "output_type": "execute_result"
    }
   ],
   "source": [
    "bhav = []\n",
    "for section_name in behav_long.rule.unique():\n",
    "    bhav.append(png.anova(data =  behav_long[behav_long.rule==section_name], dv = 'measure', between = ['geno_day', 'Sex']).assign(**{'section': section_name}))\n",
    "sex_behavior_df = pd.concat(bhav)\n",
    "csv_name =f\"1_Geno_day x Sex Anova on behavior results_{date_tag}.csv\"\n",
    "save_csv_to_analysis_storage(sex_behavior_df, csv_name, csv_folder_most_recent, None)\n",
    "sex_behavior_df"
   ]
  },
  {
   "cell_type": "markdown",
   "metadata": {
    "id": "3Gu2h9SGDIaw"
   },
   "source": [
    "#### Figure 2B: Visualize spatial weights of FOV using example post-procesed dataset "
   ]
  },
  {
   "cell_type": "code",
   "execution_count": 11,
   "metadata": {
    "execution": {
     "iopub.execute_input": "2025-08-29T05:00:31.824872Z",
     "iopub.status.busy": "2025-08-29T05:00:31.824872Z",
     "iopub.status.idle": "2025-08-29T05:00:31.828808Z",
     "shell.execute_reply": "2025-08-29T05:00:31.828808Z"
    }
   },
   "outputs": [],
   "source": [
    "## matlab loading specific modules\n",
    "from matplotlib import patches\n",
    "from matplotlib.collections import PatchCollection\n",
    "import matplotlib.transforms as transforms\n",
    "import matplotlib.lines as mlines\n",
    "import logging"
   ]
  },
  {
   "cell_type": "code",
   "execution_count": 12,
   "metadata": {
    "colab": {
     "base_uri": "https://localhost:8080/"
    },
    "execution": {
     "iopub.execute_input": "2025-08-29T05:00:31.832338Z",
     "iopub.status.busy": "2025-08-29T05:00:31.831325Z",
     "iopub.status.idle": "2025-08-29T05:00:33.072964Z",
     "shell.execute_reply": "2025-08-29T05:00:33.072461Z"
    },
    "id": "xedCGvT4yx5T",
    "outputId": "51cc74c7-d5de-40b1-a837-b302934264e2"
   },
   "outputs": [],
   "source": [
    "dataset_obj = data_location / f\"13_4_WT_RS2.mat\"\n",
    "logging.disable(logging.ERROR) # Temporarily silence logging errors and warnings b.c. of string load \n",
    "try: \n",
    "    with warnings.catch_warnings():\n",
    "        warnings.simplefilter(\"ignore\")  # This will ignore all warnings within this block     \n",
    "        test_obj = mat73.loadmat(dataset_obj)\n",
    "finally: \n",
    "    logging.disable(logging.NOTSET)\n",
    "sample_dataset = test_obj['struct_dataset_object']\n",
    "#extract good cells \n",
    "raw_dff = sample_dataset['C']\n",
    "raster = sample_dataset['raster']\n",
    "user_labels = sample_dataset['user_accepted_cells'] == 1 #1 is user label for 'good cell'\n",
    "good_cells = sample_dataset['post_deduplication_cells'].astype(int) -1 #-1 to allow for matlab-python index. of the user accepted cells, which are kept after deduplication\n",
    "sample_FOV = sample_dataset['output_struct']['spatial_weights'][:,:, user_labels] #get user label 1 IDs\n",
    "sample_FOV = sample_dataset['output_struct']['spatial_weights'][:,:, good_cells] #get deduplicated cell IDs\n",
    "mean_FOV = np.mean(sample_FOV, axis = 2)\n",
    "## find which lines have active pixels, and only get those\n",
    "active_xdim = np.sum(mean_FOV, axis = 1) >0\n",
    "active_ydim =  np.sum(mean_FOV, axis = 0) >0\n",
    "mean_FOV = mean_FOV[active_xdim,:] #only take active xdims\n",
    "mean_FOV = mean_FOV[:,active_ydim] #only take active ydims"
   ]
  },
  {
   "cell_type": "code",
   "execution_count": 13,
   "metadata": {
    "colab": {
     "base_uri": "https://localhost:8080/",
     "height": 334
    },
    "execution": {
     "iopub.execute_input": "2025-08-29T05:00:33.075489Z",
     "iopub.status.busy": "2025-08-29T05:00:33.075489Z",
     "iopub.status.idle": "2025-08-29T05:00:33.200144Z",
     "shell.execute_reply": "2025-08-29T05:00:33.200144Z"
    },
    "id": "kdcwZjc6mKWN",
    "outputId": "2b544eb7-212a-4e2b-a93e-a5ca536218eb"
   },
   "outputs": [
    {
     "name": "stdout",
     "output_type": "stream",
     "text": [
      "The folder 'C:\\Users\\13car\\Dropbox\\local_github_repos_personal\\dlx56_mPFC_1p_SohalLab\\results\\fig_2' has been created.\n",
      "The folder 'C:\\Users\\13car\\Dropbox\\local_github_repos_personal\\dlx56_mPFC_1p_SohalLab\\results\\fig_2\\28_Aug_2025' has been created.\n"
     ]
    },
    {
     "data": {
      "image/png": "[encoded data removed]",
      "text/plain": [
       "<Figure size 180x180 with 1 Axes>"
      ]
     },
     "metadata": {},
     "output_type": "display_data"
    }
   ],
   "source": [
    "fig, ax = plt.subplots(figsize = (1.2,1.2), layout = 'tight')\n",
    "sns.heatmap(mean_FOV, xticklabels = False, yticklabels = False, rasterized = True,cbar = False, ax = ax,vmax = 0.008, cmap = sns.color_palette(\"gray\", as_cmap=True))\n",
    "fig.subplots_adjust(left=0, right=1, bottom=0, top=1)\n",
    "save_fig_in_main_fig_dir(fig, fig_name =\"Sample FOV_EXTRACT detected ROIs\", folder_key=2, filetypes_to_save = ['png', 'svg', 'pdf'],bbox_inches=\"tight\",pad_inches=0)"
   ]
  },
  {
   "cell_type": "markdown",
   "metadata": {
    "id": "utRHB7sVALs-"
   },
   "source": [
    "#### Figure 2C: Import dfF traces for subject, get only user_chosen + deduplicated, and plot"
   ]
  },
  {
   "cell_type": "code",
   "execution_count": 14,
   "metadata": {
    "execution": {
     "iopub.execute_input": "2025-08-29T05:00:33.202163Z",
     "iopub.status.busy": "2025-08-29T05:00:33.202163Z",
     "iopub.status.idle": "2025-08-29T05:00:33.477644Z",
     "shell.execute_reply": "2025-08-29T05:00:33.477331Z"
    }
   },
   "outputs": [
    {
     "name": "stdout",
     "output_type": "stream",
     "text": [
      " plot frames: 1065 to 1140. plot cells: [3 4 5 6 7 8]\n"
     ]
    }
   ],
   "source": [
    "## load object of interest\n",
    "dataset_obj = data_location / f\"13_4_WT_RS2_spike_plot.mat\"\n",
    "test_obj = mat73.loadmat(dataset_obj)\n",
    "mat_traces = test_obj['plot_info']\n",
    "n_cells = mat_traces['zsig3'].shape[1]\n",
    "#define subset of cells and frames to use \n",
    "n_cell = mat_traces['zsig3'].shape[1]\n",
    "cell_pos = np.min(mat_traces['zsig3'], axis = 0)\n",
    "frame_start = 1065\n",
    "frame_end = 1140\n",
    "cell_start = 3\n",
    "cell_end= 9\n",
    "## get/transform matrices to use \n",
    "cell_range = np.arange(cell_start,cell_end)\n",
    "print(f\" plot frames: {frame_start} to {frame_end}. plot cells: {cell_range}\")\n",
    "#determine spike locations\n",
    "unique_y_vals = np.unique(mat_traces['y_to_plot'][0,:]).tolist()#get list of unique y positions for spikes (proxy for cell loc)\n",
    "spike_is_at_y_val = {y_val: mat_traces['y_to_plot'][0,:]== y_val for y_val in unique_y_vals}\n",
    "spike_x_loc_by_y_val = {key: mat_traces['x_to_plot'][0,val_bool] for key, val_bool in spike_is_at_y_val.items()}\n",
    "trunc_spikes = {key:val  for count, (key, val) in enumerate(spike_x_loc_by_y_val.items()) if count in cell_range}\n",
    "trunc_trace = {'zsig': mat_traces['zsig3'][frame_start*20:frame_end*20,cell_range],  'tvec': mat_traces['tvec'][(mat_traces['tvec'] <= frame_end)& (mat_traces['tvec']>  frame_start)]}"
   ]
  },
  {
   "cell_type": "code",
   "execution_count": 15,
   "metadata": {
    "execution": {
     "iopub.execute_input": "2025-08-29T05:00:33.480140Z",
     "iopub.status.busy": "2025-08-29T05:00:33.480140Z",
     "iopub.status.idle": "2025-08-29T05:00:33.739142Z",
     "shell.execute_reply": "2025-08-29T05:00:33.739142Z"
    }
   },
   "outputs": [
    {
     "name": "stdout",
     "output_type": "stream",
     "text": [
      "The folder 'C:\\Users\\13car\\Dropbox\\local_github_repos_personal\\dlx56_mPFC_1p_SohalLab\\results\\fig_1' already exists.\n"
     ]
    },
    {
     "name": "stdout",
     "output_type": "stream",
     "text": [
      "The folder 'C:\\Users\\13car\\Dropbox\\local_github_repos_personal\\dlx56_mPFC_1p_SohalLab\\results\\fig_1\\28_Aug_2025' already exists.\n"
     ]
    },
    {
     "data": {
      "image/png": "[encoded data removed]",
      "text/plain": [
       "<Figure size 225x187.5 with 1 Axes>"
      ]
     },
     "metadata": {},
     "output_type": "display_data"
    }
   ],
   "source": [
    "#set parameters for plot structure\n",
    "scale_origin = (0.15,-5) # (x,y) of where scale lines intersect on figure (in ax fraction, data vals)\n",
    "yscale_size = 5\n",
    "yscale_label = f\"{yscale_size} SD\"\n",
    "xscale_size = 10\n",
    "xscale_label = f\"{xscale_size} sec\"\n",
    "rec_width, rec_height = 0.1, 2.5 #size of spike marker\n",
    "line_offset_factor = 0.1 #coef for multiplying to get more space between lines\n",
    "      \n",
    "fig,ax = plt.subplots(figsize = (1.5,1.25), layout = 'constrained')\n",
    "##set at fig creation what explicit locations to keep\n",
    "y_offset_to_keep = cell_pos[cell_range]\n",
    "y_shift_trunc = y_offset_to_keep * line_offset_factor\n",
    "trace_mat_shift = y_shift_trunc+ trunc_trace['zsig']#shift raw traces themselves\n",
    "trace_min = np.min(trace_mat_shift)\n",
    "## plot traces and spikes \n",
    "lines = ax.plot(trunc_trace['tvec'],trace_mat_shift-trace_min, linewidth=0.5)\n",
    "patch_list, line_color_list = [],[] #store information from iteration for plotting later \n",
    "spike_unique_y_locs = list(trunc_spikes.keys())\n",
    "for count, key in enumerate(spike_unique_y_locs):\n",
    "    spike_y = key+ y_shift_trunc[count]-trace_min  #save for every entry of interest, offset by height vec  \n",
    "    for spike_x in trunc_spikes[key]: #iterate through x values in current position\n",
    "        if (spike_x < frame_end) & (spike_x > frame_start):\n",
    "            poly = patches.Rectangle(xy = [spike_x,spike_y], width =rec_width,height = rec_height, zorder = 0,)\n",
    "            patch_list.append(poly)\n",
    "            line_color_list.append(lines[count].get_color())    \n",
    "ax.add_collection(PatchCollection(patch_list, facecolor = line_color_list, alpha = 0.95, edgecolor = None)) # Add all patches to the plot with their respective colors\n",
    "ax.set_yticks([])\n",
    "ax.set_xticks([])\n",
    "set_labels(ax, {'title': None, 'ylim': [-1, 90]})\n",
    "ax.spines[['bottom', 'left']].set_visible(False)\n",
    "\n",
    "## add scalebar\n",
    "yscale_bounds = [scale_origin[1]-yscale_size,scale_origin[1]] \n",
    "#given data defined breadth of linescale , transform into ax coordinates to allow placing anywhere\n",
    "y_scale = mlines.Line2D([scale_origin[0],scale_origin[0]],yscale_bounds,transform = ax.get_yaxis_transform(), clip_on = False, c= 'black')  #x is in ax_fraction, y is in data\n",
    "#given ax fraction x, need to find location of ax_fraction x in data, then do data from there to accurately do x scale \n",
    "y_scalebar_loc_in_ax_frac =y_scale.get_xydata()#x is in ax_fraction, y is in data\n",
    "axes_data_loc_to_display_transform = transforms.blended_transform_factory(ax.transAxes, ax.transData)#transform (x,y) = (axes,data) to (display,display)\n",
    "y_scalebar_loc_in_display_pos = axes_data_loc_to_display_transform.transform(y_scalebar_loc_in_ax_frac)\n",
    "y_scalebar_loc_in_data = ax.transData.inverted().transform(y_scalebar_loc_in_display_pos)\n",
    "y_scalebar_len_data = np.diff(y_scalebar_loc_in_data,axis = 0)[0,1]\n",
    "x_scale = mlines.Line2D([y_scalebar_loc_in_data[0,0],y_scalebar_loc_in_data[0,0]+xscale_size], [y_scalebar_loc_in_data[0,1],y_scalebar_loc_in_data[0,1]], clip_on = False, c= 'black')#xscale will be (yscalebar_xloc, yscalebar_xloc + xbar_width), (yscalebar_yloc_start,yscalebar_yloc_start)\n",
    "ax.add_artist(y_scale)\n",
    "ax.add_artist(x_scale)\n",
    "x_label_offset_pos = ax.transData.inverted().transform(y_scalebar_loc_in_display_pos[0,:]*0.9) #move label 10% below where the scalebar is \n",
    "#make annotatiosn of bar\n",
    "ax.text(x= y_scalebar_loc_in_data[0,0]+xscale_size*0.5, y = x_label_offset_pos[1], s = xscale_label,horizontalalignment = 'center', verticalalignment = 'top')\n",
    "ax.text(x=x_label_offset_pos[0],y =np.mean(y_scalebar_loc_in_ax_frac,axis = 0)[1], s = yscale_label, horizontalalignment = 'right', verticalalignment = 'center')\n",
    "# ## savefig\n",
    "save_fig_in_main_fig_dir(fig, fig_name= \"Cell subset- calcium trace example (spike vs dff) 60sec\", folder_key=1, filetypes_to_save = ['png', 'pdf', 'svg'],bbox_inches=\"tight\",pad_inches=0)"
   ]
  }
 ],
 "metadata": {
  "colab": {
   "provenance": []
  },
  "kernelspec": {
   "display_name": "local_colab",
   "language": "python",
   "name": "python3"
  },
  "language_info": {
   "codemirror_mode": {
    "name": "ipython",
    "version": 3
   },
   "file_extension": ".py",
   "mimetype": "text/x-python",
   "name": "python",
   "nbconvert_exporter": "python",
   "pygments_lexer": "ipython3",
   "version": "3.12.9"
  }
 },
 "nbformat": 4,
 "nbformat_minor": 4
}
